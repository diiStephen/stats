{
 "cells": [
  {
   "cell_type": "code",
   "execution_count": 1,
   "id": "28653340",
   "metadata": {},
   "outputs": [],
   "source": [
    "import os\n",
    "import sys\n",
    "module_path = os.path.abspath(os.path.join('..'))\n",
    "if module_path not in sys.path:\n",
    "    sys.path.append(module_path)"
   ]
  },
  {
   "cell_type": "code",
   "execution_count": 2,
   "id": "745a76ef",
   "metadata": {},
   "outputs": [],
   "source": [
    "from scipy import stats as sts\n",
    "from matplotlib import pyplot as plt\n",
    "import numpy as np\n",
    "from src.bootstrap.bootstrap import normal_ci, pivot_ci, percentile_ci, bootstrap\n",
    "from src.statistics.skew import sample_skewness"
   ]
  },
  {
   "cell_type": "code",
   "execution_count": 16,
   "id": "26cc7672",
   "metadata": {},
   "outputs": [
    {
     "name": "stdout",
     "output_type": "stream",
     "text": [
      "Sample skewness: \t 1.9319425716195726\n",
      "Bootstrap variance: \t 0.17931817358764904\n",
      "Bootstrap se: \t\t 0.42345976619703674\n",
      "95% normal CI: \t\t (1.101976680971629, 2.7619084622675163)\n",
      "95% pivot CI: \t\t (0.988781742792439, 2.6478314387569357)\n",
      "95% percentile CI: \t (1.2160537044822095, 2.875103400446706)\n"
     ]
    },
    {
     "data": {
      "image/png": "[encoded data removed]",
      "text/plain": [
       "<Figure size 432x288 with 1 Axes>"
      ]
     },
     "metadata": {
      "needs_background": "light"
     },
     "output_type": "display_data"
    }
   ],
   "source": [
    "\"\"\"\n",
    "Chapter 8 -- Exercise 2 \n",
    "\n",
    "Conduct a simulation to compare the various bootstrap confidence interval methods.\n",
    "Let n = 50 and let T(F) = \\int (x - \\mu)^3 / \\sigma^3 dF(x) be the skewness.\n",
    "\n",
    "Draw Y_1, Y_2, ..., Y_n ~ N(0,1)\n",
    "Set X_i = e^{Y_i}, i = 1, 2, ..., n\n",
    "\n",
    "Construct the three types of bootstrap 95% confidence intervals for T(F) from the data\n",
    "X_1, X_2, ... X_n. Repeat this thing many times and estimate th true coverage of the three\n",
    "intervals\n",
    "\n",
    ":param n: Number of data points drawn from N(0,1)\n",
    ":return:\n",
    "\"\"\"\n",
    "\n",
    "n = 50 \n",
    "\n",
    "y = sts.norm.rvs(size=n)\n",
    "x = np.exp(y)\n",
    "\n",
    "theta_ht = sample_skewness(x)\n",
    "v_boot, se_boot, t_boot = bootstrap(sample_skewness, x, b=100000)\n",
    "\n",
    "n_ci = normal_ci(theta_ht, se_boot, alpha=.05)\n",
    "p_ci = pivot_ci(theta_ht, t_boot, alpha=.05)\n",
    "pt_ci = percentile_ci(t_boot, alpha=.05)\n",
    "\n",
    "print(f\"Sample skewness: \\t {theta_ht}\")\n",
    "print(f\"Bootstrap variance: \\t {v_boot}\")\n",
    "print(f\"Bootstrap se: \\t\\t {se_boot}\")\n",
    "print(f\"95% normal CI: \\t\\t {n_ci}\")\n",
    "print(f\"95% pivot CI: \\t\\t {p_ci}\")\n",
    "print(f\"95% percentile CI: \\t {pt_ci}\")\n",
    "\n",
    "plt.hist(t_boot, ec=\"black\")\n",
    "plt.show()"
   ]
  },
  {
   "cell_type": "code",
   "execution_count": 4,
   "id": "fb6c2ca0",
   "metadata": {},
   "outputs": [],
   "source": [
    "def quantile_stat(x):\n",
    "    return (np.quantile(x, q=.75) - np.quantile(x, q=.25)) / 1.34"
   ]
  },
  {
   "cell_type": "code",
   "execution_count": 5,
   "id": "3396d6bf",
   "metadata": {},
   "outputs": [
    {
     "name": "stdout",
     "output_type": "stream",
     "text": [
      "Sample quantile diff: \t 1.1652377014217103\n",
      "True quantile diff: \t 1.1416303404192403\n",
      "Bootstrap variance: \t 0.002106905570539277\n",
      "Bootstrap se: \t\t 0.045901041061606404\n",
      "95% normal CI: \t\t (1.0752733140880677, 1.255202088755353)\n",
      "95% pivot CI: \t\t (1.0651389788402836, 1.2477835050611885)\n",
      "95% percentile CI: \t (1.0826918977822322, 1.265336424003137)\n"
     ]
    },
    {
     "data": {
      "image/png": "[encoded data removed]",
      "text/plain": [
       "<Figure size 432x288 with 1 Axes>"
      ]
     },
     "metadata": {
      "needs_background": "light"
     },
     "output_type": "display_data"
    }
   ],
   "source": [
    "\"\"\"\n",
    "Chapter 8 -- Exercise 3 \n",
    "\n",
    "Let X_1, X_2, ..., X_n ~ t_3\n",
    "n = 25\n",
    "Let \\theta = T(F) = (q_{.75} - q_{.25})/1.34, where q_p denotes the pth quantile. \n",
    "\n",
    "Do a simulation to compare the coverage and length of the following confidence intervals\n",
    "for \\theta:\n",
    "\n",
    "(i) Normal interval with standard error from bootstrap \n",
    "(ii) Bootstrap percentile interval\n",
    "(iii) Pivotal bootstrap interval \n",
    "\n",
    "\"\"\"\n",
    "\n",
    "n = 1000\n",
    "x = sts.t.rvs(3, size=n)\n",
    "theta_ht = quantile_stat(x)\n",
    "v_boot, se_boot, t_boot = bootstrap(quantile_stat, x, b=2000)\n",
    "\n",
    "n_ci = normal_ci(theta_ht, se_boot, alpha=.05)\n",
    "p_ci = pivot_ci(theta_ht, t_boot, alpha=.05)\n",
    "pt_ci = percentile_ci(t_boot, alpha=.05)\n",
    "\n",
    "print(f\"Sample quantile diff: \\t {theta_ht}\")\n",
    "print(f\"True quantile diff: \\t {(sts.t.ppf(.75, df=3) - sts.t.ppf(.25, df=3))/1.34}\")\n",
    "print(f\"Bootstrap variance: \\t {v_boot}\")\n",
    "print(f\"Bootstrap se: \\t\\t {se_boot}\")\n",
    "print(f\"95% normal CI: \\t\\t {n_ci}\")\n",
    "print(f\"95% pivot CI: \\t\\t {p_ci}\")\n",
    "print(f\"95% percentile CI: \\t {pt_ci}\")\n",
    "\n",
    "plt.hist(t_boot, ec=\"black\")\n",
    "plt.show()\n"
   ]
  },
  {
   "cell_type": "code",
   "execution_count": 15,
   "id": "a71bc52c",
   "metadata": {},
   "outputs": [
    {
     "name": "stdout",
     "output_type": "stream",
     "text": [
      "Sample theta: \t\t 139.1696849956227\n",
      "Bootstrap variance: \t 18.310187188266475\n",
      "Bootstrap se: \t\t 4.279040451814691\n",
      "95% normal CI: \t\t (130.7829198216759, 147.5564501695695)\n",
      "95% pivot CI: \t\t (130.45331597308788, 147.2798488687681)\n",
      "95% percentile CI: \t (131.0595211224773, 147.88605401815752)\n"
     ]
    },
    {
     "data": {
      "image/png": "[encoded data removed]",
      "text/plain": [
       "<Figure size 432x288 with 1 Axes>"
      ]
     },
     "metadata": {
      "needs_background": "light"
     },
     "output_type": "display_data"
    }
   ],
   "source": [
    "\"\"\"\n",
    "Chapter 8 -- Exercise 6\n",
    "\n",
    "Let:\n",
    "    X_1, X_2, ..., X_n ~ Normal(mu, 1)\n",
    "    theta = e^mu \n",
    "    theta_ht = e^{X_bar}\n",
    "\n",
    "Create a dataset (using mu = 5) consisting of n = 100 observations\n",
    "\n",
    "(a) Use the bootstrap to get the se and 95% confidence interval for theta \n",
    "\"\"\"\n",
    "\n",
    "st = lambda x: np.exp(x.mean())\n",
    "\n",
    "mu = 5\n",
    "n = 1000\n",
    "x = sts.norm.rvs(loc=mu, size=(n,))\n",
    "\n",
    "theta_ht = np.exp(x.mean())\n",
    "v_boot, se_boot, t_boot = bootstrap(st, x, b=9999)\n",
    "\n",
    "n_ci = normal_ci(theta_ht, se_boot, alpha=.05)\n",
    "p_ci = pivot_ci(theta_ht, t_boot, alpha=.05)\n",
    "pt_ci = percentile_ci(t_boot, alpha=.05)\n",
    "\n",
    "print(f\"Sample theta: \\t\\t {theta_ht}\")\n",
    "print(f\"Bootstrap variance: \\t {v_boot}\")\n",
    "print(f\"Bootstrap se: \\t\\t {se_boot}\")\n",
    "print(f\"95% normal CI: \\t\\t {n_ci}\")\n",
    "print(f\"95% pivot CI: \\t\\t {p_ci}\")\n",
    "print(f\"95% percentile CI: \\t {pt_ci}\")\n",
    "\n",
    "plt.hist(t_boot, ec=\"black\")\n",
    "plt.show()"
   ]
  },
  {
   "cell_type": "code",
   "execution_count": null,
   "id": "b84533ec",
   "metadata": {},
   "outputs": [],
   "source": []
  }
 ],
 "metadata": {
  "kernelspec": {
   "display_name": "Python 3 (ipykernel)",
   "language": "python",
   "name": "python3"
  },
  "language_info": {
   "codemirror_mode": {
    "name": "ipython",
    "version": 3
   },
   "file_extension": ".py",
   "mimetype": "text/x-python",
   "name": "python",
   "nbconvert_exporter": "python",
   "pygments_lexer": "ipython3",
   "version": "3.9.5"
  }
 },
 "nbformat": 4,
 "nbformat_minor": 5
}
